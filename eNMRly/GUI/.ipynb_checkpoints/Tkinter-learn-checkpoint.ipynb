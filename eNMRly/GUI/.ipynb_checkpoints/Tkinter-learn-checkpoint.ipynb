{
 "cells": [
  {
   "cell_type": "code",
   "execution_count": 6,
   "metadata": {},
   "outputs": [],
   "source": [
    "from tkinter import *\n",
    "# from tkFileDialog import askopenfilename\n",
    "import tkinter.filedialog as filedialog\n",
    "\n",
    "def getdir():\n",
    "    path = filedialog.askdirectory()\n",
    "    print(path)\n",
    "\n",
    "root = Tk()\n",
    "root.title(\"eNMR-Spielparadies\")\n",
    "root.geometry(\"1024x768\")\n",
    "\n",
    "menu = Menu()\n",
    "root.config(menu=menu)\n",
    "filemenu = Menu(menu)\n",
    "filemenu.add_command(label=\"OpenDir...\", command=getdir)\n",
    "\n",
    "display = Frame(master = root)\n",
    "\n",
    "menu.add_cascade(label=\"File\", menu=filemenu)\n",
    "\n",
    "root.mainloop()"
   ]
  },
  {
   "cell_type": "code",
   "execution_count": null,
   "metadata": {},
   "outputs": [],
   "source": []
  },
  {
   "cell_type": "code",
   "execution_count": null,
   "metadata": {
    "collapsed": true
   },
   "outputs": [],
   "source": []
  }
 ],
 "metadata": {
  "kernelspec": {
   "display_name": "Python 3",
   "language": "python",
   "name": "python3"
  },
  "language_info": {
   "codemirror_mode": {
    "name": "ipython",
    "version": 3
   },
   "file_extension": ".py",
   "mimetype": "text/x-python",
   "name": "python",
   "nbconvert_exporter": "python",
   "pygments_lexer": "ipython3",
   "version": "3.6.3"
  }
 },
 "nbformat": 4,
 "nbformat_minor": 2
}
